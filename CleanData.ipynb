{
 "cells": [
  {
   "cell_type": "code",
   "execution_count": 5,
   "id": "921c2578",
   "metadata": {},
   "outputs": [],
   "source": [
    "import pandas as pd \n",
    "import kagglehub as kh\n",
    "import os\n",
    "from sklearn.model_selection import train_test_split"
   ]
  },
  {
   "cell_type": "code",
   "execution_count": 6,
   "id": "787350fa",
   "metadata": {},
   "outputs": [],
   "source": [
    "# Download latest version\n",
    "path = kh.dataset_download(\"shayanfazeli/heartbeat\")"
   ]
  },
  {
   "cell_type": "code",
   "execution_count": 7,
   "id": "e871ec36",
   "metadata": {},
   "outputs": [],
   "source": [
    "def load_data(path):\n",
    "    # load data from mitbih\n",
    "    mitbih_train = pd.read_csv(os.path.join(path, \"mitbih_train.csv\"), header=None)\n",
    "    mitbih_test = pd.read_csv(os.path.join(path, \"mitbih_test.csv\"), header=None)\n",
    "\n",
    "    # load data from ptbdb\n",
    "    ptbdb_normal = pd.read_csv(os.path.join(path, \"ptbdb_normal.csv\"), header=None)\n",
    "    ptbdb_abnormal = pd.read_csv(os.path.join(path, \"ptbdb_abnormal.csv\"), header=None)\n",
    "  \n",
    "    return mitbih_train, mitbih_test, ptbdb_normal, ptbdb_abnormal"
   ]
  },
  {
   "cell_type": "code",
   "execution_count": 8,
   "id": "74947781",
   "metadata": {},
   "outputs": [],
   "source": [
    "mitbih_train, mitbih_test, ptbdb_normal, ptbdb_abnormal = load_data(path)"
   ]
  },
  {
   "cell_type": "code",
   "execution_count": 9,
   "id": "21460994",
   "metadata": {},
   "outputs": [],
   "source": [
    "def replace_label_column(data, label):\n",
    "    data.iloc[:, -1] = label  # Replace the last column with the new label\n",
    "    return data"
   ]
  },
  {
   "cell_type": "code",
   "execution_count": 10,
   "id": "da313875",
   "metadata": {},
   "outputs": [],
   "source": [
    "# append labels to ptbdb data\n",
    "ptbdb_normal = replace_label_column(ptbdb_normal, 6) # normal\n",
    "ptbdb_abnormal = replace_label_column(ptbdb_abnormal, 7) # abnormal"
   ]
  },
  {
   "cell_type": "code",
   "execution_count": 11,
   "id": "447a775f",
   "metadata": {},
   "outputs": [],
   "source": [
    "# Concatenate the two ptbdb datasets\n",
    "ptbdb_all = pd.concat([ptbdb_normal, ptbdb_abnormal], ignore_index=True)\n",
    "\n",
    "# split the data 80% / 20% \n",
    "X_ptbdb_train, X_ptbdb_test, y_ptbdb_train, y_ptbdb_test = train_test_split(ptbdb_all.iloc[:, :-1], ptbdb_all.iloc[:, -1], test_size=0.2, random_state=42)"
   ]
  },
  {
   "cell_type": "code",
   "execution_count": 12,
   "id": "44578cd7",
   "metadata": {},
   "outputs": [],
   "source": [
    "# combine mitbih and ptbdb data\n",
    "X_train = pd.concat([X_ptbdb_train, mitbih_train.iloc[:, :-1]], ignore_index=True)\n",
    "X_test = pd.concat([X_ptbdb_test, mitbih_test.iloc[:, :-1]], ignore_index=True)\n",
    "\n",
    "# combine mitbih and ptbdb labels\n",
    "y_train = pd.concat([y_ptbdb_train, mitbih_train.iloc[:, -1]], ignore_index=True)\n",
    "y_test = pd.concat([y_ptbdb_test, mitbih_test.iloc[:, -1]], ignore_index=True)"
   ]
  },
  {
   "cell_type": "code",
   "execution_count": 13,
   "id": "49e90e90",
   "metadata": {},
   "outputs": [],
   "source": [
    "def drop_almost_zero_columns(X, threshold=0.8):\n",
    "    zero_fraction = (X == 0).sum() / len(X)\n",
    "    drop_cols = zero_fraction[zero_fraction >= threshold].index\n",
    "    return X.drop(columns=drop_cols)"
   ]
  },
  {
   "cell_type": "code",
   "execution_count": 14,
   "id": "112f5dd6",
   "metadata": {},
   "outputs": [],
   "source": [
    "# drop the columns with all zeros from the train and test datasets\n",
    "X_train = drop_almost_zero_columns(X_train)\n",
    "X_test = drop_almost_zero_columns(X_test)"
   ]
  }
 ],
 "metadata": {
  "kernelspec": {
   "display_name": "Python 3",
   "language": "python",
   "name": "python3"
  },
  "language_info": {
   "codemirror_mode": {
    "name": "ipython",
    "version": 3
   },
   "file_extension": ".py",
   "mimetype": "text/x-python",
   "name": "python",
   "nbconvert_exporter": "python",
   "pygments_lexer": "ipython3",
   "version": "3.12.10"
  }
 },
 "nbformat": 4,
 "nbformat_minor": 5
}

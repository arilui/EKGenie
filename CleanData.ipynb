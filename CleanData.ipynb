{
 "cells": [
  {
   "cell_type": "code",
   "execution_count": null,
   "id": "c5de962b",
   "metadata": {},
   "outputs": [],
   "source": [
    "# ==================== DOWNLOAD DATA ====================\n",
    "import pandas as pd \n",
    "import kagglehub as kh\n",
    "import os\n",
    "import numpy as np\n",
    "from sklearn.model_selection import train_test_split\n",
    "\n",
    "# Download latest version\n",
    "path = kh.dataset_download(\"shayanfazeli/heartbeat\")\n",
    "\n",
    "def load_data(path):\n",
    "    mitbih_train = pd.read_csv(os.path.join(path, \"mitbih_train.csv\"), header=None)\n",
    "    mitbih_test = pd.read_csv(os.path.join(path, \"mitbih_test.csv\"), header=None)\n",
    "    ptbdb_normal = pd.read_csv(os.path.join(path, \"ptbdb_normal.csv\"), header=None)\n",
    "    ptbdb_abnormal = pd.read_csv(os.path.join(path, \"ptbdb_abnormal.csv\"), header=None)\n",
    "    return mitbih_train, mitbih_test, ptbdb_normal, ptbdb_abnormal\n",
    "\n",
    "mitbih_train, mitbih_test, ptbdb_normal, ptbdb_abnormal = load_data(path)\n"
   ]
  },
  {
   "cell_type": "code",
   "execution_count": null,
   "id": "83d29cc3",
   "metadata": {},
   "outputs": [],
   "source": [
    "# ==================== LABEL ASSIGNMENT ====================\n",
    "def replace_label_column(data, label):\n",
    "    data.iloc[:, -1] = label\n",
    "    return data\n",
    "\n",
    "ptbdb_normal = replace_label_column(ptbdb_normal, 6)  # normal\n",
    "ptbdb_abnormal = replace_label_column(ptbdb_abnormal, 7)  # abnormal\n",
    "\n",
    "ptbdb_all = pd.concat([ptbdb_normal, ptbdb_abnormal], ignore_index=True)\n"
   ]
  },
  {
   "cell_type": "code",
   "execution_count": null,
   "id": "97314776",
   "metadata": {},
   "outputs": [],
   "source": [
    "# ==================== SPLIT DATA ====================\n",
    "X_ptbdb_train, X_ptbdb_test, y_ptbdb_train, y_ptbdb_test = train_test_split(\n",
    "    ptbdb_all.iloc[:, :-1], ptbdb_all.iloc[:, -1], test_size=0.2, random_state=42\n",
    ")\n",
    "\n",
    "X_train = pd.concat([X_ptbdb_train, mitbih_train.iloc[:, :-1]], ignore_index=True)\n",
    "X_test = pd.concat([X_ptbdb_test, mitbih_test.iloc[:, :-1]], ignore_index=True)\n",
    "\n",
    "y_train = pd.concat([y_ptbdb_train, mitbih_train.iloc[:, -1]], ignore_index=True)\n",
    "y_test = pd.concat([y_ptbdb_test, mitbih_test.iloc[:, -1]], ignore_index=True)\n"
   ]
  },
  {
   "cell_type": "code",
   "execution_count": null,
   "id": "61c8ab53",
   "metadata": {},
   "outputs": [],
   "source": [
    "# ==================== LABEL REMAPPING ====================\n",
    "# Merge class 6 into 0 (\"Normal\"), rename 7 to 5 (\"Abnormal\")\n",
    "y_train = pd.Series(y_train).astype(int).replace({6: 0, 7: 5}).reset_index(drop=True)\n",
    "y_test = pd.Series(y_test).astype(int).replace({6: 0, 7: 5}).reset_index(drop=True)\n"
   ]
  },
  {
   "cell_type": "code",
   "execution_count": null,
   "id": "39d0eb91",
   "metadata": {},
   "outputs": [],
   "source": [
    "# ==================== DROP LOW-INFORMATION COLUMNS ====================\n",
    "def drop_almost_zero_columns(X, threshold=0.8):\n",
    "    zero_fraction = (X == 0).sum() / len(X)\n",
    "    drop_cols = zero_fraction[zero_fraction >= threshold].index\n",
    "    return X.drop(columns=drop_cols)\n",
    "\n",
    "X_train = drop_almost_zero_columns(X_train)\n",
    "X_test = drop_almost_zero_columns(X_test)\n"
   ]
  },
  {
   "cell_type": "code",
   "execution_count": null,
   "id": "8d79c2a9",
   "metadata": {},
   "outputs": [
    {
     "name": "stdout",
     "output_type": "stream",
     "text": [
      "Classes: [0 1 2 3 4 5] | Count: 6\n"
     ]
    }
   ],
   "source": [
    "# ==================== CLASS COUNT ====================\n",
    "unique_classes = np.unique(np.concatenate([y_train, y_test]))\n",
    "num_classes = len(unique_classes)\n",
    "print(\"Classes:\", unique_classes, \"| Count:\", num_classes)\n"
   ]
  },
  {
   "cell_type": "code",
   "execution_count": null,
   "id": "1d3582a4",
   "metadata": {},
   "outputs": [],
   "source": [
    "# ==================== CLASS WEIGHTS ====================\n",
    "class_weights = {\n",
    "    0: 1.0,   # Normal\n",
    "    1: 4.0,   # Supraventricular\n",
    "    2: 1.5,   # Ventricular\n",
    "    3: 5.0,   # Fusion\n",
    "    4: 1.0,   # Unknown\n",
    "    5: 1.2    # Abnormal\n",
    "}\n"
   ]
  }
 ],
 "metadata": {
  "kernelspec": {
   "display_name": "tfcpu",
   "language": "python",
   "name": "python3"
  },
  "language_info": {
   "codemirror_mode": {
    "name": "ipython",
    "version": 3
   },
   "file_extension": ".py",
   "mimetype": "text/x-python",
   "name": "python",
   "nbconvert_exporter": "python",
   "pygments_lexer": "ipython3",
   "version": "3.9.21"
  }
 },
 "nbformat": 4,
 "nbformat_minor": 5
}

{
 "cells": [
  {
   "cell_type": "code",
   "execution_count": 393,
   "id": "e75387ca",
   "metadata": {},
   "outputs": [],
   "source": [
    "!pip install kagglehub --quiet"
   ]
  },
  {
   "cell_type": "code",
   "execution_count": 394,
   "id": "7313959a",
   "metadata": {},
   "outputs": [],
   "source": [
    "import pandas as pd \n",
    "import kagglehub as kh\n",
    "import os\n",
    "import matplotlib.pyplot as plt\n",
    "import seaborn as sns\n",
    "import numpy as np\n",
    "from sklearn.model_selection import train_test_split"
   ]
  },
  {
   "cell_type": "code",
   "execution_count": 395,
   "id": "446902bf",
   "metadata": {},
   "outputs": [
    {
     "name": "stdout",
     "output_type": "stream",
     "text": [
      "Path to dataset files: C:\\Users\\hawra\\.cache\\kagglehub\\datasets\\shayanfazeli\\heartbeat\\versions\\1\n"
     ]
    }
   ],
   "source": [
    "# Download latest version\n",
    "path = kh.dataset_download(\"shayanfazeli/heartbeat\")\n",
    "\n",
    "print(\"Path to dataset files:\", path)"
   ]
  },
  {
   "cell_type": "code",
   "execution_count": 396,
   "id": "ea2fd7ff",
   "metadata": {},
   "outputs": [
    {
     "name": "stdout",
     "output_type": "stream",
     "text": [
      "Files in dataset folder:\n",
      "['mitbih_test.csv', 'mitbih_train.csv', 'ptbdb_abnormal.csv', 'ptbdb_normal.csv']\n"
     ]
    }
   ],
   "source": [
    "# Show the actual downloaded files\n",
    "print(\"Files in dataset folder:\")\n",
    "print(os.listdir(path))"
   ]
  },
  {
   "cell_type": "code",
   "execution_count": 397,
   "id": "d858911b",
   "metadata": {},
   "outputs": [],
   "source": [
    "def load_data(path):\n",
    "    # load data from mitbih\n",
    "    mitbih_train = pd.read_csv(os.path.join(path, \"mitbih_train.csv\"), header=None)\n",
    "    mitbih_test = pd.read_csv(os.path.join(path, \"mitbih_test.csv\"), header=None)\n",
    "\n",
    "    # load data from ptbdb\n",
    "    ptbdb_normal = pd.read_csv(os.path.join(path, \"ptbdb_normal.csv\"), header=None)\n",
    "    ptbdb_abnormal = pd.read_csv(os.path.join(path, \"ptbdb_abnormal.csv\"), header=None)\n",
    "    # Combine ptbdb\n",
    "   # ptbdb_data = pd.concat([ptbdb_normal, ptbdb_abnormal], ignore_index=True)\n",
    "\n",
    "  \n",
    "    return mitbih_train, mitbih_test, ptbdb_normal, ptbdb_abnormal"
   ]
  },
  {
   "cell_type": "code",
   "execution_count": 398,
   "id": "4cb3486f",
   "metadata": {},
   "outputs": [],
   "source": [
    "mitbih_train, mitbih_test, ptbdb_normal, ptbdb_abnormal = load_data(path)"
   ]
  },
  {
   "cell_type": "code",
   "execution_count": 399,
   "id": "28285c92",
   "metadata": {},
   "outputs": [],
   "source": [
    "def replace_label_column(data, label):\n",
    "    data.iloc[:, -1] = label  # Replace the last column with the new label\n",
    "    return data"
   ]
  },
  {
   "cell_type": "code",
   "execution_count": 400,
   "id": "f88bccb4",
   "metadata": {},
   "outputs": [],
   "source": [
    "# function to append labels to ptbdb data to show normal and abnormal\n",
    "# def append_labels(data, label):\n",
    "#     # Append labels to the data\n",
    "#     data['label'] = label\n",
    "#     return data"
   ]
  },
  {
   "cell_type": "code",
   "execution_count": 401,
   "id": "569d18ad",
   "metadata": {},
   "outputs": [],
   "source": [
    "# append labels to ptbdb data\n",
    "ptbdb_normal = replace_label_column(ptbdb_normal, 6) # normal\n",
    "ptbdb_abnormal = replace_label_column(ptbdb_abnormal, 7) # abnormal\n"
   ]
  },
  {
   "cell_type": "code",
   "execution_count": 428,
   "id": "37d7fe1c",
   "metadata": {},
   "outputs": [],
   "source": [
    "ptbdb_all = pd.concat([ptbdb_normal, ptbdb_abnormal], ignore_index=True)\n",
    "\n",
    "# split the data 80 20 \n",
    "\n",
    "X_ptbdb_train, X_ptbdb_test, y_ptbdb_train, y_ptbdb_test = train_test_split(ptbdb_all.iloc[:, :-1], ptbdb_all.iloc[:, -1], test_size=0.2, random_state=42)\n"
   ]
  },
  {
   "cell_type": "code",
   "execution_count": 429,
   "id": "edc0f3b6",
   "metadata": {},
   "outputs": [],
   "source": [
    "# combine mitbih and ptbdb data\n",
    "X_train = pd.concat([X_ptbdb_train, mitbih_train.iloc[:, :-1]], ignore_index=True)"
   ]
  },
  {
   "cell_type": "code",
   "execution_count": 434,
   "id": "6f7f8c0f",
   "metadata": {},
   "outputs": [],
   "source": [
    "X_test = pd.concat([X_ptbdb_test, mitbih_test.iloc[:, :-1]], ignore_index=True)"
   ]
  },
  {
   "cell_type": "code",
   "execution_count": 430,
   "id": "857263d3",
   "metadata": {},
   "outputs": [],
   "source": [
    "y_test = pd.concat([y_ptbdb_test, mitbih_test.iloc[:, -1]], ignore_index=True)"
   ]
  },
  {
   "cell_type": "code",
   "execution_count": 462,
   "id": "39d18b19",
   "metadata": {},
   "outputs": [
    {
     "data": {
      "text/plain": [
       "0    6.0\n",
       "1    7.0\n",
       "2    7.0\n",
       "3    7.0\n",
       "4    7.0\n",
       "Name: 187, dtype: float64"
      ]
     },
     "execution_count": 462,
     "metadata": {},
     "output_type": "execute_result"
    }
   ],
   "source": [
    "y_test.head()"
   ]
  },
  {
   "cell_type": "code",
   "execution_count": 433,
   "id": "3cd0bcca",
   "metadata": {},
   "outputs": [],
   "source": [
    "y_train = pd.concat([y_ptbdb_train, mitbih_train.iloc[:, -1]], ignore_index=True)"
   ]
  },
  {
   "cell_type": "code",
   "execution_count": 463,
   "id": "4e74e13a",
   "metadata": {},
   "outputs": [
    {
     "data": {
      "text/plain": [
       "0    7.0\n",
       "1    7.0\n",
       "2    7.0\n",
       "3    7.0\n",
       "4    7.0\n",
       "Name: 187, dtype: float64"
      ]
     },
     "execution_count": 463,
     "metadata": {},
     "output_type": "execute_result"
    }
   ],
   "source": [
    "y_train.head()"
   ]
  },
  {
   "cell_type": "code",
   "execution_count": null,
   "id": "26520558",
   "metadata": {},
   "outputs": [],
   "source": [
    "# def split_data(mitbih_train, mitbih_test, ptbdb_normal, ptbdb_abnormal):\n",
    "#     # Split mitbih\n",
    "#     X_mit_train = mitbih_train.iloc[:, :-1]\n",
    "#     y_mit_train = mitbih_train.iloc[:, -1]\n",
    "#     X_mit_test = mitbih_test.iloc[:, :-1]\n",
    "#     y_mit_test = mitbih_test.iloc[:, -1]\n",
    "\n",
    "    # Split ptbdb\n",
    "    # X_ptb = pd.concat([ptbdb_normal, ptbdb_abnormal], ignore_index=True).iloc[:, :-1]\n",
    "    # y_ptb is the output label of ptbdb data\n",
    "    # y_ptb = X_ptb.iloc[:, -1]\n",
    "   # ptbdb_all = pd.concat([ptbdb_normal, ptbdb_abnormal], ignore_index=True)\n",
    "    # X_ptb = ptbdb_all.iloc[:, :-1]\n",
    "    # y_ptb = ptbdb_all.iloc[:, -1]\n",
    "\n",
    "    # return X_mit_train, y_mit_train, X_mit_test, y_mit_test, X_ptb, y_ptb"
   ]
  },
  {
   "cell_type": "code",
   "execution_count": null,
   "id": "7ba9e955",
   "metadata": {},
   "outputs": [
    {
     "name": "stdout",
     "output_type": "stream",
     "text": [
      "MITBIH train: (87554, 187) (87554,)\n",
      "MITBIH test : (21892, 187) (21892,)\n",
      "PTBDB       : (14552, 187) (14552,)\n"
     ]
    }
   ],
   "source": [
    "# X_mit_train, y_mit_train,  X_mit_test, y_mit_test, X_ptb, y_ptb = split_data(mitbih_train, mitbih_test, ptbdb_normal, ptbdb_abnormal)\n",
    "\n",
    "# print(\"MITBIH train:\", X_mit_train.shape, y_mit_train.shape)\n",
    "# print(\"MITBIH test :\", X_mit_test.shape, y_mit_test.shape)\n",
    "# print(\"PTBDB       :\", X_ptb.shape, y_ptb.shape)"
   ]
  },
  {
   "cell_type": "code",
   "execution_count": 435,
   "id": "56848cc1",
   "metadata": {},
   "outputs": [
    {
     "data": {
      "text/html": [
       "<div>\n",
       "<style scoped>\n",
       "    .dataframe tbody tr th:only-of-type {\n",
       "        vertical-align: middle;\n",
       "    }\n",
       "\n",
       "    .dataframe tbody tr th {\n",
       "        vertical-align: top;\n",
       "    }\n",
       "\n",
       "    .dataframe thead th {\n",
       "        text-align: right;\n",
       "    }\n",
       "</style>\n",
       "<table border=\"1\" class=\"dataframe\">\n",
       "  <thead>\n",
       "    <tr style=\"text-align: right;\">\n",
       "      <th></th>\n",
       "      <th>0</th>\n",
       "      <th>1</th>\n",
       "      <th>2</th>\n",
       "      <th>3</th>\n",
       "      <th>4</th>\n",
       "      <th>5</th>\n",
       "      <th>6</th>\n",
       "      <th>7</th>\n",
       "      <th>8</th>\n",
       "      <th>9</th>\n",
       "      <th>...</th>\n",
       "      <th>177</th>\n",
       "      <th>178</th>\n",
       "      <th>179</th>\n",
       "      <th>180</th>\n",
       "      <th>181</th>\n",
       "      <th>182</th>\n",
       "      <th>183</th>\n",
       "      <th>184</th>\n",
       "      <th>185</th>\n",
       "      <th>186</th>\n",
       "    </tr>\n",
       "  </thead>\n",
       "  <tbody>\n",
       "    <tr>\n",
       "      <th>0</th>\n",
       "      <td>0.995160</td>\n",
       "      <td>0.841500</td>\n",
       "      <td>0.841500</td>\n",
       "      <td>0.787659</td>\n",
       "      <td>0.695705</td>\n",
       "      <td>0.650333</td>\n",
       "      <td>0.638838</td>\n",
       "      <td>0.649123</td>\n",
       "      <td>0.629764</td>\n",
       "      <td>0.601936</td>\n",
       "      <td>...</td>\n",
       "      <td>0.0</td>\n",
       "      <td>0.0</td>\n",
       "      <td>0.0</td>\n",
       "      <td>0.0</td>\n",
       "      <td>0.0</td>\n",
       "      <td>0.0</td>\n",
       "      <td>0.0</td>\n",
       "      <td>0.0</td>\n",
       "      <td>0.0</td>\n",
       "      <td>0.0</td>\n",
       "    </tr>\n",
       "    <tr>\n",
       "      <th>1</th>\n",
       "      <td>0.977044</td>\n",
       "      <td>0.896976</td>\n",
       "      <td>0.487122</td>\n",
       "      <td>0.430571</td>\n",
       "      <td>0.372900</td>\n",
       "      <td>0.325308</td>\n",
       "      <td>0.320829</td>\n",
       "      <td>0.339306</td>\n",
       "      <td>0.342665</td>\n",
       "      <td>0.374020</td>\n",
       "      <td>...</td>\n",
       "      <td>0.0</td>\n",
       "      <td>0.0</td>\n",
       "      <td>0.0</td>\n",
       "      <td>0.0</td>\n",
       "      <td>0.0</td>\n",
       "      <td>0.0</td>\n",
       "      <td>0.0</td>\n",
       "      <td>0.0</td>\n",
       "      <td>0.0</td>\n",
       "      <td>0.0</td>\n",
       "    </tr>\n",
       "    <tr>\n",
       "      <th>2</th>\n",
       "      <td>1.000000</td>\n",
       "      <td>0.313459</td>\n",
       "      <td>0.239669</td>\n",
       "      <td>0.502361</td>\n",
       "      <td>0.427981</td>\n",
       "      <td>0.352420</td>\n",
       "      <td>0.253247</td>\n",
       "      <td>0.242621</td>\n",
       "      <td>0.262692</td>\n",
       "      <td>0.259740</td>\n",
       "      <td>...</td>\n",
       "      <td>0.0</td>\n",
       "      <td>0.0</td>\n",
       "      <td>0.0</td>\n",
       "      <td>0.0</td>\n",
       "      <td>0.0</td>\n",
       "      <td>0.0</td>\n",
       "      <td>0.0</td>\n",
       "      <td>0.0</td>\n",
       "      <td>0.0</td>\n",
       "      <td>0.0</td>\n",
       "    </tr>\n",
       "    <tr>\n",
       "      <th>3</th>\n",
       "      <td>0.951319</td>\n",
       "      <td>0.496360</td>\n",
       "      <td>0.299818</td>\n",
       "      <td>0.233849</td>\n",
       "      <td>0.121474</td>\n",
       "      <td>0.074613</td>\n",
       "      <td>0.088717</td>\n",
       "      <td>0.065969</td>\n",
       "      <td>0.062784</td>\n",
       "      <td>0.059600</td>\n",
       "      <td>...</td>\n",
       "      <td>0.0</td>\n",
       "      <td>0.0</td>\n",
       "      <td>0.0</td>\n",
       "      <td>0.0</td>\n",
       "      <td>0.0</td>\n",
       "      <td>0.0</td>\n",
       "      <td>0.0</td>\n",
       "      <td>0.0</td>\n",
       "      <td>0.0</td>\n",
       "      <td>0.0</td>\n",
       "    </tr>\n",
       "    <tr>\n",
       "      <th>4</th>\n",
       "      <td>0.992788</td>\n",
       "      <td>0.950120</td>\n",
       "      <td>0.634615</td>\n",
       "      <td>0.350962</td>\n",
       "      <td>0.268630</td>\n",
       "      <td>0.179087</td>\n",
       "      <td>0.137019</td>\n",
       "      <td>0.109976</td>\n",
       "      <td>0.112380</td>\n",
       "      <td>0.108173</td>\n",
       "      <td>...</td>\n",
       "      <td>0.0</td>\n",
       "      <td>0.0</td>\n",
       "      <td>0.0</td>\n",
       "      <td>0.0</td>\n",
       "      <td>0.0</td>\n",
       "      <td>0.0</td>\n",
       "      <td>0.0</td>\n",
       "      <td>0.0</td>\n",
       "      <td>0.0</td>\n",
       "      <td>0.0</td>\n",
       "    </tr>\n",
       "  </tbody>\n",
       "</table>\n",
       "<p>5 rows × 187 columns</p>\n",
       "</div>"
      ],
      "text/plain": [
       "        0         1         2         3         4         5         6    \\\n",
       "0  0.995160  0.841500  0.841500  0.787659  0.695705  0.650333  0.638838   \n",
       "1  0.977044  0.896976  0.487122  0.430571  0.372900  0.325308  0.320829   \n",
       "2  1.000000  0.313459  0.239669  0.502361  0.427981  0.352420  0.253247   \n",
       "3  0.951319  0.496360  0.299818  0.233849  0.121474  0.074613  0.088717   \n",
       "4  0.992788  0.950120  0.634615  0.350962  0.268630  0.179087  0.137019   \n",
       "\n",
       "        7         8         9    ...  177  178  179  180  181  182  183  184  \\\n",
       "0  0.649123  0.629764  0.601936  ...  0.0  0.0  0.0  0.0  0.0  0.0  0.0  0.0   \n",
       "1  0.339306  0.342665  0.374020  ...  0.0  0.0  0.0  0.0  0.0  0.0  0.0  0.0   \n",
       "2  0.242621  0.262692  0.259740  ...  0.0  0.0  0.0  0.0  0.0  0.0  0.0  0.0   \n",
       "3  0.065969  0.062784  0.059600  ...  0.0  0.0  0.0  0.0  0.0  0.0  0.0  0.0   \n",
       "4  0.109976  0.112380  0.108173  ...  0.0  0.0  0.0  0.0  0.0  0.0  0.0  0.0   \n",
       "\n",
       "   185  186  \n",
       "0  0.0  0.0  \n",
       "1  0.0  0.0  \n",
       "2  0.0  0.0  \n",
       "3  0.0  0.0  \n",
       "4  0.0  0.0  \n",
       "\n",
       "[5 rows x 187 columns]"
      ]
     },
     "execution_count": 435,
     "metadata": {},
     "output_type": "execute_result"
    }
   ],
   "source": [
    "X_train.head()"
   ]
  },
  {
   "cell_type": "code",
   "execution_count": 437,
   "id": "8f1123ce",
   "metadata": {},
   "outputs": [
    {
     "data": {
      "text/plain": [
       "0    7.0\n",
       "1    7.0\n",
       "2    7.0\n",
       "3    7.0\n",
       "4    7.0\n",
       "Name: 187, dtype: float64"
      ]
     },
     "execution_count": 437,
     "metadata": {},
     "output_type": "execute_result"
    }
   ],
   "source": [
    "y_train.head()"
   ]
  },
  {
   "cell_type": "code",
   "execution_count": 438,
   "id": "d69524a6",
   "metadata": {},
   "outputs": [
    {
     "name": "stdout",
     "output_type": "stream",
     "text": [
      "Original shape: (99195, 187)\n"
     ]
    }
   ],
   "source": [
    "print(\"Original shape:\", X_train.shape)"
   ]
  },
  {
   "cell_type": "code",
   "execution_count": 439,
   "id": "a3fb0e0f",
   "metadata": {},
   "outputs": [],
   "source": [
    "def drop_almost_zero_columns(X, threshold=0.8):\n",
    "    zero_fraction = (X == 0).sum() / len(X)\n",
    "    drop_cols = zero_fraction[zero_fraction >= threshold].index\n",
    "    print(f\"Dropping {len(drop_cols)} columns with ≥{threshold*100}% zeros\")\n",
    "    return X.drop(columns=drop_cols)"
   ]
  },
  {
   "cell_type": "code",
   "execution_count": 447,
   "id": "c50042f1",
   "metadata": {},
   "outputs": [
    {
     "name": "stdout",
     "output_type": "stream",
     "text": [
      "Dropping 54 columns with ≥80.0% zeros\n"
     ]
    }
   ],
   "source": [
    "# drop the columns with all zeros from the train and test datasets\n",
    "X_train = drop_almost_zero_columns(X_train)"
   ]
  },
  {
   "cell_type": "code",
   "execution_count": 467,
   "id": "155e6e81",
   "metadata": {},
   "outputs": [
    {
     "name": "stdout",
     "output_type": "stream",
     "text": [
      "Dropping 54 columns with ≥80.0% zeros\n"
     ]
    }
   ],
   "source": [
    "X_test = drop_almost_zero_columns(X_test)"
   ]
  },
  {
   "cell_type": "code",
   "execution_count": 468,
   "id": "c2f2390a",
   "metadata": {},
   "outputs": [
    {
     "name": "stdout",
     "output_type": "stream",
     "text": [
      "132    0.793014\n",
      "131    0.785372\n",
      "130    0.778285\n",
      "129    0.769333\n",
      "128    0.760048\n",
      "127    0.750451\n",
      "126    0.739201\n",
      "125    0.726135\n",
      "124    0.714361\n",
      "123    0.700055\n",
      "122    0.684994\n",
      "121    0.668179\n",
      "120    0.650890\n",
      "119    0.634578\n",
      "118    0.619890\n",
      "117    0.603982\n",
      "116    0.589364\n",
      "115    0.576219\n",
      "114    0.563889\n",
      "113    0.551258\n",
      "dtype: float64\n"
     ]
    }
   ],
   "source": [
    "zero_fraction = (X_train == 0).sum() / len(X_train)\n",
    "zero_fraction_sorted = zero_fraction.sort_values(ascending=False)\n",
    "print(zero_fraction_sorted.head(20))  # top 20 most-zero columns\n"
   ]
  },
  {
   "cell_type": "code",
   "execution_count": 469,
   "id": "9b1a8e32",
   "metadata": {},
   "outputs": [
    {
     "data": {
      "image/png": "[encoded data removed]",
      "text/plain": [
       "<Figure size 1000x500 with 1 Axes>"
      ]
     },
     "metadata": {},
     "output_type": "display_data"
    }
   ],
   "source": [
    "import matplotlib.pyplot as plt\n",
    "\n",
    "plt.figure(figsize=(10, 5))\n",
    "plt.hist(zero_fraction, bins=20, edgecolor='k')\n",
    "plt.xlabel(\"Fraction of zeros in column\")\n",
    "plt.ylabel(\"Number of columns\")\n",
    "plt.title(\"Zero density across columns\")\n",
    "plt.show()"
   ]
  },
  {
   "cell_type": "code",
   "execution_count": 470,
   "id": "089769db",
   "metadata": {},
   "outputs": [
    {
     "name": "stdout",
     "output_type": "stream",
     "text": [
      "Columns with all zeros: []\n",
      "Count: 0\n"
     ]
    }
   ],
   "source": [
    "zero_cols = X_train.columns[(X_train == 0).all(axis=0)]\n",
    "print(\"Columns with all zeros:\", zero_cols.tolist())\n",
    "print(\"Count:\", len(zero_cols))"
   ]
  },
  {
   "cell_type": "code",
   "execution_count": 471,
   "id": "e14b3f2a",
   "metadata": {},
   "outputs": [
    {
     "name": "stdout",
     "output_type": "stream",
     "text": [
      "Cleaned shape: (99195, 133)\n"
     ]
    }
   ],
   "source": [
    "print(\"Cleaned shape:\", X_train.shape)"
   ]
  },
  {
   "cell_type": "code",
   "execution_count": 472,
   "id": "4745317c",
   "metadata": {},
   "outputs": [
    {
     "data": {
      "text/html": [
       "<div>\n",
       "<style scoped>\n",
       "    .dataframe tbody tr th:only-of-type {\n",
       "        vertical-align: middle;\n",
       "    }\n",
       "\n",
       "    .dataframe tbody tr th {\n",
       "        vertical-align: top;\n",
       "    }\n",
       "\n",
       "    .dataframe thead th {\n",
       "        text-align: right;\n",
       "    }\n",
       "</style>\n",
       "<table border=\"1\" class=\"dataframe\">\n",
       "  <thead>\n",
       "    <tr style=\"text-align: right;\">\n",
       "      <th></th>\n",
       "      <th>0</th>\n",
       "      <th>1</th>\n",
       "      <th>2</th>\n",
       "      <th>3</th>\n",
       "      <th>4</th>\n",
       "      <th>5</th>\n",
       "      <th>6</th>\n",
       "      <th>7</th>\n",
       "      <th>8</th>\n",
       "      <th>9</th>\n",
       "      <th>...</th>\n",
       "      <th>123</th>\n",
       "      <th>124</th>\n",
       "      <th>125</th>\n",
       "      <th>126</th>\n",
       "      <th>127</th>\n",
       "      <th>128</th>\n",
       "      <th>129</th>\n",
       "      <th>130</th>\n",
       "      <th>131</th>\n",
       "      <th>132</th>\n",
       "    </tr>\n",
       "  </thead>\n",
       "  <tbody>\n",
       "    <tr>\n",
       "      <th>0</th>\n",
       "      <td>0.995160</td>\n",
       "      <td>0.841500</td>\n",
       "      <td>0.841500</td>\n",
       "      <td>0.787659</td>\n",
       "      <td>0.695705</td>\n",
       "      <td>0.650333</td>\n",
       "      <td>0.638838</td>\n",
       "      <td>0.649123</td>\n",
       "      <td>0.629764</td>\n",
       "      <td>0.601936</td>\n",
       "      <td>...</td>\n",
       "      <td>0.000000</td>\n",
       "      <td>0.000000</td>\n",
       "      <td>0.000000</td>\n",
       "      <td>0.000000</td>\n",
       "      <td>0.000000</td>\n",
       "      <td>0.000000</td>\n",
       "      <td>0.000000</td>\n",
       "      <td>0.000000</td>\n",
       "      <td>0.000000</td>\n",
       "      <td>0.000000</td>\n",
       "    </tr>\n",
       "    <tr>\n",
       "      <th>1</th>\n",
       "      <td>0.977044</td>\n",
       "      <td>0.896976</td>\n",
       "      <td>0.487122</td>\n",
       "      <td>0.430571</td>\n",
       "      <td>0.372900</td>\n",
       "      <td>0.325308</td>\n",
       "      <td>0.320829</td>\n",
       "      <td>0.339306</td>\n",
       "      <td>0.342665</td>\n",
       "      <td>0.374020</td>\n",
       "      <td>...</td>\n",
       "      <td>0.000000</td>\n",
       "      <td>0.000000</td>\n",
       "      <td>0.000000</td>\n",
       "      <td>0.000000</td>\n",
       "      <td>0.000000</td>\n",
       "      <td>0.000000</td>\n",
       "      <td>0.000000</td>\n",
       "      <td>0.000000</td>\n",
       "      <td>0.000000</td>\n",
       "      <td>0.000000</td>\n",
       "    </tr>\n",
       "    <tr>\n",
       "      <th>2</th>\n",
       "      <td>1.000000</td>\n",
       "      <td>0.313459</td>\n",
       "      <td>0.239669</td>\n",
       "      <td>0.502361</td>\n",
       "      <td>0.427981</td>\n",
       "      <td>0.352420</td>\n",
       "      <td>0.253247</td>\n",
       "      <td>0.242621</td>\n",
       "      <td>0.262692</td>\n",
       "      <td>0.259740</td>\n",
       "      <td>...</td>\n",
       "      <td>0.000000</td>\n",
       "      <td>0.000000</td>\n",
       "      <td>0.000000</td>\n",
       "      <td>0.000000</td>\n",
       "      <td>0.000000</td>\n",
       "      <td>0.000000</td>\n",
       "      <td>0.000000</td>\n",
       "      <td>0.000000</td>\n",
       "      <td>0.000000</td>\n",
       "      <td>0.000000</td>\n",
       "    </tr>\n",
       "    <tr>\n",
       "      <th>3</th>\n",
       "      <td>0.951319</td>\n",
       "      <td>0.496360</td>\n",
       "      <td>0.299818</td>\n",
       "      <td>0.233849</td>\n",
       "      <td>0.121474</td>\n",
       "      <td>0.074613</td>\n",
       "      <td>0.088717</td>\n",
       "      <td>0.065969</td>\n",
       "      <td>0.062784</td>\n",
       "      <td>0.059600</td>\n",
       "      <td>...</td>\n",
       "      <td>0.352138</td>\n",
       "      <td>0.737944</td>\n",
       "      <td>1.000000</td>\n",
       "      <td>0.605096</td>\n",
       "      <td>0.367607</td>\n",
       "      <td>0.233849</td>\n",
       "      <td>0.154686</td>\n",
       "      <td>0.081893</td>\n",
       "      <td>0.093267</td>\n",
       "      <td>0.070974</td>\n",
       "    </tr>\n",
       "    <tr>\n",
       "      <th>4</th>\n",
       "      <td>0.992788</td>\n",
       "      <td>0.950120</td>\n",
       "      <td>0.634615</td>\n",
       "      <td>0.350962</td>\n",
       "      <td>0.268630</td>\n",
       "      <td>0.179087</td>\n",
       "      <td>0.137019</td>\n",
       "      <td>0.109976</td>\n",
       "      <td>0.112380</td>\n",
       "      <td>0.108173</td>\n",
       "      <td>...</td>\n",
       "      <td>0.136418</td>\n",
       "      <td>0.141827</td>\n",
       "      <td>0.144231</td>\n",
       "      <td>0.153846</td>\n",
       "      <td>0.160457</td>\n",
       "      <td>0.179087</td>\n",
       "      <td>0.191707</td>\n",
       "      <td>0.000000</td>\n",
       "      <td>0.000000</td>\n",
       "      <td>0.000000</td>\n",
       "    </tr>\n",
       "  </tbody>\n",
       "</table>\n",
       "<p>5 rows × 133 columns</p>\n",
       "</div>"
      ],
      "text/plain": [
       "        0         1         2         3         4         5         6    \\\n",
       "0  0.995160  0.841500  0.841500  0.787659  0.695705  0.650333  0.638838   \n",
       "1  0.977044  0.896976  0.487122  0.430571  0.372900  0.325308  0.320829   \n",
       "2  1.000000  0.313459  0.239669  0.502361  0.427981  0.352420  0.253247   \n",
       "3  0.951319  0.496360  0.299818  0.233849  0.121474  0.074613  0.088717   \n",
       "4  0.992788  0.950120  0.634615  0.350962  0.268630  0.179087  0.137019   \n",
       "\n",
       "        7         8         9    ...       123       124       125       126  \\\n",
       "0  0.649123  0.629764  0.601936  ...  0.000000  0.000000  0.000000  0.000000   \n",
       "1  0.339306  0.342665  0.374020  ...  0.000000  0.000000  0.000000  0.000000   \n",
       "2  0.242621  0.262692  0.259740  ...  0.000000  0.000000  0.000000  0.000000   \n",
       "3  0.065969  0.062784  0.059600  ...  0.352138  0.737944  1.000000  0.605096   \n",
       "4  0.109976  0.112380  0.108173  ...  0.136418  0.141827  0.144231  0.153846   \n",
       "\n",
       "        127       128       129       130       131       132  \n",
       "0  0.000000  0.000000  0.000000  0.000000  0.000000  0.000000  \n",
       "1  0.000000  0.000000  0.000000  0.000000  0.000000  0.000000  \n",
       "2  0.000000  0.000000  0.000000  0.000000  0.000000  0.000000  \n",
       "3  0.367607  0.233849  0.154686  0.081893  0.093267  0.070974  \n",
       "4  0.160457  0.179087  0.191707  0.000000  0.000000  0.000000  \n",
       "\n",
       "[5 rows x 133 columns]"
      ]
     },
     "execution_count": 472,
     "metadata": {},
     "output_type": "execute_result"
    }
   ],
   "source": [
    "X_train.head()"
   ]
  },
  {
   "cell_type": "code",
   "execution_count": 473,
   "id": "ab44cac4",
   "metadata": {},
   "outputs": [
    {
     "data": {
      "text/plain": [
       "0    7.0\n",
       "1    7.0\n",
       "2    7.0\n",
       "3    7.0\n",
       "4    7.0\n",
       "Name: 187, dtype: float64"
      ]
     },
     "execution_count": 473,
     "metadata": {},
     "output_type": "execute_result"
    }
   ],
   "source": [
    "y_train.head()"
   ]
  },
  {
   "cell_type": "code",
   "execution_count": 474,
   "id": "7eccf528",
   "metadata": {},
   "outputs": [],
   "source": [
    "from sklearn.model_selection import train_test_split\n",
    "from sklearn.naive_bayes import GaussianNB\n",
    "from sklearn.metrics import accuracy_score, classification_report, confusion_matrix"
   ]
  },
  {
   "cell_type": "code",
   "execution_count": 475,
   "id": "ffe441b8",
   "metadata": {},
   "outputs": [
    {
     "name": "stdout",
     "output_type": "stream",
     "text": [
      "Accuracy: 0.24843768898923518\n",
      "Classification Report:\n",
      "               precision    recall  f1-score   support\n",
      "\n",
      "         0.0       0.89      0.17      0.29     18118\n",
      "         1.0       0.13      0.49      0.21       556\n",
      "         2.0       0.23      0.45      0.31      1448\n",
      "         3.0       0.03      0.95      0.05       162\n",
      "         4.0       0.49      0.72      0.59      1608\n",
      "         6.0       0.09      0.70      0.15       834\n",
      "         7.0       0.11      0.09      0.10      2077\n",
      "\n",
      "    accuracy                           0.25     24803\n",
      "   macro avg       0.28      0.51      0.24     24803\n",
      "weighted avg       0.71      0.25      0.29     24803\n",
      "\n",
      "Confusion Matrix:\n",
      " [[3169 1548 1606 4787  844 5123 1041]\n",
      " [  38  273   45  117   14   62    7]\n",
      " [  95   77  648  193  154  130  151]\n",
      " [   4    0    3  154    0    0    1]\n",
      " [  79   16   36   26 1153   82  216]\n",
      " [  24   64   58   71   16  585   16]\n",
      " [ 168  109  373  315  152  780  180]]\n"
     ]
    }
   ],
   "source": [
    "gnb = GaussianNB()\n",
    "gnb.fit(X_train, y_train)\n",
    "y_pred = gnb.predict(X_test)\n",
    "print(\"Accuracy:\", accuracy_score(y_test, y_pred))\n",
    "print(\"Classification Report:\\n\", classification_report(y_test, y_pred))\n",
    "print(\"Confusion Matrix:\\n\", confusion_matrix(y_test, y_pred))"
   ]
  }
 ],
 "metadata": {
  "kernelspec": {
   "display_name": "base",
   "language": "python",
   "name": "python3"
  },
  "language_info": {
   "codemirror_mode": {
    "name": "ipython",
    "version": 3
   },
   "file_extension": ".py",
   "mimetype": "text/x-python",
   "name": "python",
   "nbconvert_exporter": "python",
   "pygments_lexer": "ipython3",
   "version": "3.12.4"
  }
 },
 "nbformat": 4,
 "nbformat_minor": 5
}
